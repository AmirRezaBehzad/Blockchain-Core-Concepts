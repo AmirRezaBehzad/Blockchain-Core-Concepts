{
  "nbformat": 4,
  "nbformat_minor": 0,
  "metadata": {
    "colab": {
      "provenance": [],
      "collapsed_sections": [
        "0ErK5SZyru7o",
        "XAKSrkper4zT"
      ],
      "authorship_tag": "ABX9TyPx62gqYDii/wXoYEbsZkP2",
      "include_colab_link": true
    },
    "kernelspec": {
      "name": "python3",
      "display_name": "Python 3"
    },
    "language_info": {
      "name": "python"
    }
  },
  "cells": [
    {
      "cell_type": "markdown",
      "metadata": {
        "id": "view-in-github",
        "colab_type": "text"
      },
      "source": [
        "<a href=\"https://colab.research.google.com/github/AmirRezaBehzad/Blockchain-Core-Concepts/blob/main/PoW_and_Blockchain_Simulation.ipynb\" target=\"_parent\"><img src=\"https://colab.research.google.com/assets/colab-badge.svg\" alt=\"Open In Colab\"/></a>"
      ]
    },
    {
      "cell_type": "markdown",
      "source": [
        "# Part 1: Proof of Work (PoW) Mining Simulation"
      ],
      "metadata": {
        "id": "0ErK5SZyru7o"
      }
    },
    {
      "cell_type": "code",
      "execution_count": 1,
      "metadata": {
        "colab": {
          "base_uri": "https://localhost:8080/"
        },
        "id": "-PXPO_qorlJW",
        "outputId": "e789bb0b-c4ca-4e04-b778-04a69cab3766"
      },
      "outputs": [
        {
          "output_type": "stream",
          "name": "stdout",
          "text": [
            "Mining successful! Nonce: 5638695\n",
            "Final hash: 0000002d71e0d862e6afa31be0681a33696cfc3c87dd2ba8c47b07e9dacb389a\n"
          ]
        }
      ],
      "source": [
        "import hashlib\n",
        "import logging\n",
        "\n",
        "# Constants\n",
        "NOUNCE_LIMIT = 1000000000000000\n",
        "ZEROES = 6  # Number of leading zeroes required in hash\n",
        "\n",
        "# Configure logging\n",
        "logging.basicConfig(level=logging.INFO, format='%(asctime)s - %(levelname)s - %(message)s')\n",
        "\n",
        "def generate_hash(block_number: int, transactions: str, previous_hash: str, nonce: int) -> str:\n",
        "    \"\"\"\n",
        "    Generates a SHA-256 hash for the given block information and nonce.\n",
        "    \"\"\"\n",
        "    base_text = f\"{block_number}{transactions}{previous_hash}{nonce}\"\n",
        "    return hashlib.sha256(base_text.encode()).hexdigest()\n",
        "\n",
        "def is_valid_nonce(hash_try: str) -> bool:\n",
        "    \"\"\"\n",
        "    Checks if the hash has the required number of leading zeroes.\n",
        "    \"\"\"\n",
        "    return hash_try.startswith('0' * ZEROES)\n",
        "\n",
        "def mine_block(block_number: int, transactions: str, previous_hash: str) -> int:\n",
        "    \"\"\"\n",
        "    Tries to find a valid nonce to create a hash with the required number of leading zeroes.\n",
        "    \"\"\"\n",
        "    for nonce in range(NOUNCE_LIMIT):\n",
        "        hash_try = generate_hash(block_number, transactions, previous_hash, nonce)\n",
        "        if is_valid_nonce(hash_try):\n",
        "            logging.info(f\"Found suitable nonce: {nonce}\")\n",
        "            logging.info(f\"Final hash: {hash_try}\")\n",
        "            return nonce, hash_try\n",
        "\n",
        "    logging.warning(\"No suitable nonce found within the limit.\")\n",
        "    return -1, None\n",
        "\n",
        "# Hardcoded inputs for simplicity\n",
        "block_number = 20050\n",
        "transactions = \"sample_txn_123abc\"  # Sample transaction data\n",
        "previous_hash = \"prev_hash_456def\"  # Sample previous block hash\n",
        "\n",
        "# Start mining\n",
        "nonce, final_hash = mine_block(block_number, transactions, previous_hash)\n",
        "if nonce == -1:\n",
        "    print(\"Mining was unsuccessful.\")\n",
        "else:\n",
        "    print(f\"Mining successful! Nonce: {nonce}\")\n",
        "    print(f\"Final hash: {final_hash}\")\n"
      ]
    },
    {
      "cell_type": "markdown",
      "source": [
        "# Part 2: Simple Blockchain Ledger Simulation"
      ],
      "metadata": {
        "id": "XAKSrkper4zT"
      }
    },
    {
      "cell_type": "code",
      "source": [
        "'''\n",
        "TestCoin(TC)\n",
        "\n",
        "T1: Bob sends Carole 3 TC\n",
        "T2: Jennie sends Parker 5.1 TC\n",
        "T3: Cathy sendd Cara 8 TC\n",
        "T4: Carole sends Missy 10 TC\n",
        "T5: Missy sends Carole 12.6 TC\n",
        "T6: Parker sendd Cathy 15 TC\n",
        "T7: Parker sendd Cathy 7.9 TC\n",
        "\n",
        "B1 (\"STARTHASH\", T1, T2, T3) , B2 (hashfunc(B1), T4, T5, T6) , B3 (hashfunc(B2), T7)\n",
        "\n",
        "'''\n",
        "\n",
        "import hashlib\n",
        "\n",
        "class TestCoinBlock:\n",
        "\n",
        "  def __init__(self, previous_block_hash, transaction_list):\n",
        "    self.previous_block_hash = previous_block_hash\n",
        "    self.transaction_list = transaction_list\n",
        "\n",
        "    # Combine the transaction list and previous block hash into a single string\n",
        "    self.block_data = \"-\".join(transaction_list) + \"-\" + previous_block_hash\n",
        "\n",
        "    # Compute the SHA-256 hash of the block data\n",
        "    self.blockhash = hashlib.sha256(self.block_data.encode()).hexdigest()\n",
        "\n",
        "# Define the transactions\n",
        "T1 = \"Bob sends Carole 3 TC\"\n",
        "T2 = \"Jennie sends Parker 5.1 TC\"\n",
        "T3 = \"Cathy sendd Cara 8 TC\"\n",
        "T4 = \"Carole sends Missy 10 TC\"\n",
        "T5 = \"Missy sends Carole 12.6 TC\"\n",
        "T6 = \"Parker sendd Cathy 15 TC\"\n",
        "\n",
        "# Create the blocks with their respective transactions\n",
        "FirstBlock = TestCoinBlock(\"STARTHASH\", [T1, T2])\n",
        "SecondBlock = TestCoinBlock(FirstBlock.blockhash, [T3, T4])\n",
        "ThirdBlock = TestCoinBlock(SecondBlock.blockhash, [T5, T6])\n",
        "\n",
        "# Print the data and hash for each block\n",
        "print(\"First block's data:\", end=' ')\n",
        "print(FirstBlock.block_data)\n",
        "print(\"First block's hash:\", end=' ')\n",
        "print(FirstBlock.blockhash)\n",
        "print(\"Second block's data:\", end=' ')\n",
        "print(SecondBlock.block_data)\n",
        "print(\"Second block's hash:\", end=' ')\n",
        "print(SecondBlock.blockhash)\n",
        "print(\"Third block's data:\", end=' ')\n",
        "print(ThirdBlock.block_data)\n",
        "print(\"Third block's hash:\", end=' ')\n",
        "print(ThirdBlock.blockhash)"
      ],
      "metadata": {
        "colab": {
          "base_uri": "https://localhost:8080/"
        },
        "id": "hMoqW2Fgr8UH",
        "outputId": "6da79043-17e0-4a8d-a771-2a6730efa09a"
      },
      "execution_count": 2,
      "outputs": [
        {
          "output_type": "stream",
          "name": "stdout",
          "text": [
            "First block's data: Bob sends Carole 3 TC-Jennie sends Parker 5.1 TC-STARTHASH\n",
            "First block's hash: a1b54b91bc8706e6b4ae59707d0f4c9a48f08b597a60245be93ee1f90c158843\n",
            "Second block's data: Cathy sendd Cara 8 TC-Carole sends Missy 10 TC-a1b54b91bc8706e6b4ae59707d0f4c9a48f08b597a60245be93ee1f90c158843\n",
            "Second block's hash: 4a1410f396c05d42cb106757eacf9df7ac2e2448e97a6e4c8ce6944a5391b0a2\n",
            "Third block's data: Missy sends Carole 12.6 TC-Parker sendd Cathy 15 TC-4a1410f396c05d42cb106757eacf9df7ac2e2448e97a6e4c8ce6944a5391b0a2\n",
            "Third block's hash: 445b626d51bbb85f5c69edce8d8aeff17c30619a4acf0a46fc5db9762ba11a45\n"
          ]
        }
      ]
    },
    {
      "cell_type": "code",
      "source": [
        "# Define a new set of transactions with a slight modification\n",
        "t1 = \"Bob sends Carole 3 TC\"\n",
        "t2 = \"Jennie sends Parker 5.2 TC\"  # Changed from 5.1 TC to 5.2 TC\n",
        "t3 = \"Cathy sendd Cara 8 TC\"\n",
        "t4 = \"Carole sends Missy 10 TC\"\n",
        "t5 = \"Missy sends Carole 12.6 TC\"\n",
        "t6 = \"Parker sendd Cathy 15 TC\"\n",
        "\n",
        "# Re-create the blocks with the modified transactions\n",
        "FirstBlock = TestCoinBlock(\"STARTHASH\", [t1, t2])\n",
        "SecondBlock = TestCoinBlock(FirstBlock.blockhash, [t3, t4])\n",
        "ThirdBlock = TestCoinBlock(SecondBlock.blockhash, [t5, t6])\n",
        "\n",
        "# Print the data and hash for each block with the modified transactions\n",
        "print(\"First block's data:\", end=' ')\n",
        "print(FirstBlock.block_data)\n",
        "print(\"First block's hash:\", end=' ')\n",
        "print(FirstBlock.blockhash)\n",
        "print(\"Second block's data:\", end=' ')\n",
        "print(SecondBlock.block_data)\n",
        "print(\"Second block's hash:\", end=' ')\n",
        "print(SecondBlock.blockhash)\n",
        "print(\"Third block's data:\", end=' ')\n",
        "print(ThirdBlock.block_data)\n",
        "print(\"Third block's hash:\", end=' ')\n",
        "print(ThirdBlock.blockhash)\n",
        "\n",
        "\"\"\"\n",
        "As you can see, a small change in the transaction data will cause a completely different block hash\n",
        "due to the avalanche effect in hash functions. This ensures the integrity and\n",
        "immutability of the blockchain, as any tampering with the data will be immediately\n",
        "noticeable through a changed hash.\n",
        "\"\"\""
      ],
      "metadata": {
        "colab": {
          "base_uri": "https://localhost:8080/",
          "height": 156
        },
        "id": "M6P0iUesr-vA",
        "outputId": "30d7ebcb-6d4b-48ed-abfc-f944fa761fe1"
      },
      "execution_count": 3,
      "outputs": [
        {
          "output_type": "stream",
          "name": "stdout",
          "text": [
            "First block's data: Bob sends Carole 3 TC-Jennie sends Parker 5.2 TC-STARTHASH\n",
            "First block's hash: 30ff1ba4da7560426f84495a7f664d3545f3a68cc51ad08031930d96a2e375b9\n",
            "Second block's data: Cathy sendd Cara 8 TC-Carole sends Missy 10 TC-30ff1ba4da7560426f84495a7f664d3545f3a68cc51ad08031930d96a2e375b9\n",
            "Second block's hash: dfb9d57d8595b1c6412f9b260101117c8c4e583a24138bcbb1066fd3ef86210a\n",
            "Third block's data: Missy sends Carole 12.6 TC-Parker sendd Cathy 15 TC-dfb9d57d8595b1c6412f9b260101117c8c4e583a24138bcbb1066fd3ef86210a\n",
            "Third block's hash: 1e251d0f7e4ead60fbdf8ff6e645832e8a2b6795b307c12268d882eb7be96329\n"
          ]
        },
        {
          "output_type": "execute_result",
          "data": {
            "text/plain": [
              "'\\nAs you can see, a small change in the transaction data will cause a completely different block hash\\ndue to the avalanche effect in hash functions. This ensures the integrity and\\nimmutability of the blockchain, as any tampering with the data will be immediately\\nnoticeable through a changed hash.\\n'"
            ],
            "application/vnd.google.colaboratory.intrinsic+json": {
              "type": "string"
            }
          },
          "metadata": {},
          "execution_count": 3
        }
      ]
    }
  ]
}